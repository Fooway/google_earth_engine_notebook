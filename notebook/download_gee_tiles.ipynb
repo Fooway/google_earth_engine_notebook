{
 "cells": [
  {
   "cell_type": "code",
   "execution_count": 2,
   "metadata": {
    "collapsed": true
   },
   "outputs": [],
   "source": [
    "%load_ext autoreload \n",
    "%autoreload 2\n",
    "from tf_data_wrangling_library import *\n",
    "import os"
   ]
  },
  {
   "cell_type": "code",
   "execution_count": 3,
   "metadata": {},
   "outputs": [],
   "source": [
    "#\n",
    "# Define the filepaths where we will save the data\n",
    "#\n",
    "DATA_DIR=\"./ch3_data_try_three\"\n",
    "TRAIN_IMG_DIR=os.path.join(DATA_DIR, \"train_imgs\")\n",
    "TRAIN_IMG_LABELS=os.path.join(DATA_DIR, \"train.txt\")\n",
    "# These are the files where we save the path to each image along with their classes\n",
    "TEST_IMG_DIR=os.path.join(DATA_DIR, \"test_imgs\")\n",
    "TEST_IMG_LABELS=os.path.join(DATA_DIR, \"test.txt\")\n",
    "\n",
    "\n",
    "number_per_training_class = 5000\n",
    "number_per_test_class = 1000\n",
    "\n",
    "\n",
    "\n",
    "\n",
    "# Define the bounds of each geographical area\n",
    "# Cities\n",
    "brooklyn= ((-73.965471, 40.614974), (-73.920207, 40.693991))\n",
    "longisland= ((-73.918610, 40.713007), (-73.840551, 40.775980))\n",
    "queens= ((-73.821792, 40.749724), (-73.760813, 40.780303))\n",
    "sf1= ((-122.453085, 37.719024), (-122.394265, 37.789567))\n",
    "sanjose= ((-122.033408, 37.243222), (-121.832452, 37.414198))\n",
    "sandiego= ((-117.144966, 32.743224), (-117.098079, 32.761772))\n",
    "sandiego2= ((-117.098079, 32.690284), (-117.021168, 32.743224))\n",
    "denver= ((-105.127158, 39.569603), (-104.890206, 39.825191))\n",
    "neworleans= ((-90.229627, 29.967342), (-90.034561, 30.016651))\n",
    "baltimore= ((-76.651899, 39.287861), (-76.609940, 39.311176))\n",
    "houston=((-95.405923, 29.676449), (-95.285249, 29.809945))\n",
    "indianapolis=((-86.162324, 39.740545), (-86.124914, 39.795394))\n",
    "washingtondc=((-77.040475, 38.881241), (-76.981643, 38.920025))\n",
    "# Farmland\n",
    "kentucky= ((-84.479444, 38.110622), (-84.335569, 38.258371))\n",
    "kansas= ((-97.533941, 38.105647), (-96.815051, 38.366043))\n",
    "montana= ((-108.994821, 45.875502), (-108.770538, 46.105918))\n",
    "california= ((-121.789047, 38.223409), (-121.575699, 38.473852))\n",
    "virginia= ((-76.838359, 36.483186), (-76.609497, 36.684365))\n",
    "# Mountains\n",
    "cascades = ((-121.575448, 48.224966), (-120.395554, 48.955637))\n",
    "bc = ((-126.871931, 50.727633), (-122.548457, 51.421085))\n",
    "sierranevadas = ((-120.479266, 38.206113), (-120.198767, 39.346931))\n",
    "yellowstone = ((-110.042831, 43.716602), (-109.379713, 44.437358))\n",
    "rockies = ((-106.790375, 38.610576), (-106.352140, 39.315902))\n",
    "rockies2 = ((-107.872873, 37.627164), (-106.433726, 38.047526))\n",
    "jasper = ((-118.961940, 51.490493), (-116.910005, 52.873976))\n",
    "yosemite = ((-119.956063, 37.535445), (-119.282902, 38.176927))\n",
    "south_sierra=((-105.916956, 32.921503), (-105.765943, 33.117007))\n",
    "\n",
    "training_cities = [brooklyn, longisland, queens, sf1, sanjose, sandiego, sandiego2, houston, indianapolis, washingtondc]\n",
    "test_cities = [baltimore, neworleans]\n",
    "\n",
    "training_mountains = [cascades, bc, sierranevadas, yellowstone, rockies, rockies2, south_sierra]\n",
    "test_mountains=[jasper, yosemite]\n",
    "\n",
    "training_farms=[montana, kansas, kentucky]\n",
    "test_farms=[virginia, california]\n",
    "\n",
    "\n",
    "#\n",
    "# Set which gps bounding boxes will be used for each class\n",
    "#\n",
    "train_gps_bounds = [\n",
    "    training_farms,    # class 0\n",
    "    training_cities,   # class 1\n",
    "    training_mountains # class 2\n",
    "]\n",
    "\n",
    "test_gps_bounds = [\n",
    "    test_farms,    # class 0\n",
    "    test_cities,   # class 1\n",
    "    test_mountains # class 2\n",
    "]\n",
    "\n",
    "\n",
    "#\n",
    "# Set where to save the images for each class\n",
    "#\n",
    "train_class_directories = [\n",
    "    os.path.join(TRAIN_IMG_DIR,'farms'),    # class 0\n",
    "    os.path.join(TRAIN_IMG_DIR,'cities'),   # class 1\n",
    "    os.path.join(TRAIN_IMG_DIR,'mountains') # class 2\n",
    "]\n",
    "\n",
    "test_class_directories = [\n",
    "    os.path.join(TEST_IMG_DIR,'farms'),    # class 0\n",
    "    os.path.join(TEST_IMG_DIR,'cities'),   # class 1\n",
    "    os.path.join(TEST_IMG_DIR,'mountains') # class 2\n",
    "]    \n",
    "\n",
    "#\n",
    "# Protobuffer settings\n",
    "#\n",
    "TRAIN_PROTO_FILENAME = \"gee_train_large.tfrecords\"\n",
    "TEST_PROTO_FILENAME = \"gee_test_large.tfrecords\""
   ]
  },
  {
   "cell_type": "code",
   "execution_count": 4,
   "metadata": {},
   "outputs": [],
   "source": [
    "\n",
    "# create_label_csv_file(directory_list=['./visor_renamed'],\n",
    "#                       label_filename='./visor_renamed/train.txt',\n",
    "#                       class_list=None,\n",
    "#                       file_extensions=['jpg'])"
   ]
  },
  {
   "cell_type": "code",
   "execution_count": null,
   "metadata": {},
   "outputs": [
    {
     "name": "stderr",
     "output_type": "stream",
     "text": [
      "\r",
      "  0%|          | 0/22491 [00:00<?, ?it/s]"
     ]
    },
    {
     "name": "stdout",
     "output_type": "stream",
     "text": [
      "Protobuffing ./visor_renamed/train.tf\n"
     ]
    },
    {
     "name": "stderr",
     "output_type": "stream",
     "text": [
      "  2%|▏         | 364/22491 [16:58<16:53:24,  2.75s/it]"
     ]
    }
   ],
   "source": [
    "convert_to_protobuf(proto_filename = './visor_renamed/train.tf',\n",
    "                    label_file = './visor_renamed/train.txt')"
   ]
  }
 ],
 "metadata": {
  "kernelspec": {
   "display_name": "Python 2",
   "language": "python",
   "name": "python2"
  },
  "language_info": {
   "codemirror_mode": {
    "name": "ipython",
    "version": 2
   },
   "file_extension": ".py",
   "mimetype": "text/x-python",
   "name": "python",
   "nbconvert_exporter": "python",
   "pygments_lexer": "ipython2",
   "version": "2.7.13"
  }
 },
 "nbformat": 4,
 "nbformat_minor": 2
}
