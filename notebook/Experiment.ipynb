{
 "cells": [
  {
   "cell_type": "code",
   "execution_count": 1,
   "metadata": {},
   "outputs": [],
   "source": [
    "%matplotlib inline\n",
    "%load_ext autoreload \n",
    "%autoreload 2\n",
    "\n",
    "# Math Stuff\n",
    "import scipy.misc, random, os\n",
    "import numpy as np\n",
    "\n",
    "# Google Earth Engine\n",
    "import ee\n",
    "from gee_library import *\n",
    "ee.Initialize()\n",
    "\n",
    "# debug stuff\n",
    "import matplotlib.pyplot as plt\n",
    "import matplotlib.image as mpimg\n",
    "\n",
    "# Threads\n",
    "import time, Queue\n",
    "from threading import Thread\n",
    "\n",
    "# Tensorflow\n",
    "import tensorflow as tf\n"
   ]
  },
  {
   "cell_type": "code",
   "execution_count": 2,
   "metadata": {},
   "outputs": [],
   "source": [
    "# Each element of img_queue will be a dictionary in the form {'band': numpy_array}\n",
    "img_queue = Queue.Queue()\n",
    "\n",
    "\n",
    "#\n",
    "# Download worker\n",
    "#\n",
    "def imagery_getter(label, geCollection, meters, pixels, bands, coords):\n",
    "    \"\"\"\n",
    "    Downloads imagery and decodes into numpy data; adds the matrix data to img_queue.\n",
    "    \n",
    "    geCollection: ee.ImageCollection object\n",
    "    meters: Each image will depict and area measuring meters x meters \n",
    "    pixels: Each image will measure pixels x pixels\n",
    "    bands: dictionary of band names. Example: ['R', 'G', 'B']\n",
    "    coords: Two gps points describing a rectangle in the form:\n",
    "    ((longitude_min, latitude_min),(longitude_max, latitude_max))\n",
    "    \"\"\"\n",
    "    try:\n",
    "        # Get random location in box\n",
    "        ((longmin, latmin),(longmax, latmax)) = coords\n",
    "\n",
    "        # get random coords\n",
    "        longitude = random.uniform(longmin, longmax)\n",
    "        latitude = random.uniform(latmin, latmax)\n",
    "\n",
    "        # Calculate resolution\n",
    "        resolution = meters/pixels\n",
    "\n",
    "        # Build the GPS box Geometry object\n",
    "        tile_bounds = square_centered_at(\n",
    "            point = (longitude, latitude),\n",
    "            half_distance = meters / 2\n",
    "        )\n",
    "\n",
    "        # request imagery\n",
    "        tiles = img_at_region(geCollection, resolution, bands, tile_bounds)\n",
    "\n",
    "        # Add tiles to queue for writing\n",
    "        imagery_item = {'label': label,\n",
    "                        'R': scipy.misc.imresize(tiles['R'], (pixels, pixels)),\n",
    "                        'G': scipy.misc.imresize(tiles['G'], (pixels, pixels)),\n",
    "                        'B': scipy.misc.imresize(tiles['B'], (pixels, pixels))}\n",
    "        img_queue.put(imagery_item)\n",
    "        \n",
    "    #\n",
    "    # Error Handling\n",
    "    #\n",
    "    except ServerError as e:\n",
    "        print e, coords\n",
    "    except Exception as e:\n",
    "        print e, coords\n",
    "    return\n",
    "    \n",
    "\n",
    "#\n",
    "# Protobuf creator worker\n",
    "#\n",
    "def proto_writer_worker(PROTO_FILENAME):\n",
    "    \n",
    "    print \"Started protobuf writer.\"\n",
    "\n",
    "    # Open a protobuffer writer\n",
    "    proto_writer = tf.python_io.TFRecordWriter(PROTO_FILENAME)\n",
    "\n",
    "\n",
    "    # Consume things from the queue.\n",
    "    try: \n",
    "        while True:\n",
    "            \n",
    "            # Consume one item from the queue. Raise exception if empty for 60 seconds\n",
    "            example = img_queue.get(block=True, timeout=60)\n",
    "            \n",
    "            R = example['R'].flatten()\n",
    "            G = example['G'].flatten()\n",
    "            B = example['B'].flatten()\n",
    "            label=example['label']\n",
    "\n",
    "            proto_example = tf.train.Example(\n",
    "                features=tf.train.Features( # a map of string to Feature proto objects\n",
    "                    feature={\n",
    "                        # A Feature contains one of either a int64_list,\n",
    "                        # float_list, or bytes_list\n",
    "                        'label': tf.train.Feature(\n",
    "                            int64_list=tf.train.Int64List(value=[int(label)])),\n",
    "                        'R': tf.train.Feature(\n",
    "                            int64_list=tf.train.Int64List(value=R.astype(\"int64\"))),\n",
    "                        'G': tf.train.Feature(\n",
    "                            int64_list=tf.train.Int64List(value=G.astype(\"int64\"))),\n",
    "                        'B': tf.train.Feature(\n",
    "                            int64_list=tf.train.Int64List(value=B.astype(\"int64\"))),\n",
    "                    }\n",
    "                )\n",
    "            )\n",
    "\n",
    "            # use the proto object to serialize the example to a string\n",
    "            serialized = proto_example.SerializeToString()\n",
    "            # write the serialized object to disk\n",
    "            proto_writer.write(serialized)\n",
    "            \n",
    "            print \"Wrote something.\"\n",
    "            \n",
    "    except Queue.Empty:\n",
    "        print \"Queue empty. Protobuf worker stopped.\""
   ]
  },
  {
   "cell_type": "code",
   "execution_count": 3,
   "metadata": {},
   "outputs": [
    {
     "name": "stdout",
     "output_type": "stream",
     "text": [
      "Started protobuf writer.\n",
      "0\n",
      "1\n",
      "2\n",
      "3\n",
      "Wrote something.\n",
      "4\n",
      "Wrote something.\n",
      "Wrote something.\n",
      "Wrote something.\n",
      "Wrote something.\n",
      "Queue empty. Protobuf worker stopped.\n"
     ]
    }
   ],
   "source": [
    "PROTO_FILENAME = \"multi_spectrum.tf\"\n",
    "threads = []\n",
    "\n",
    "#\n",
    "# Start writer worker\n",
    "#\n",
    "t = Thread(target=proto_writer_worker, args=[PROTO_FILENAME])\n",
    "t.start()\n",
    "threads.append(t)\n",
    "\n",
    "#\n",
    "# Start downloader workers\n",
    "#\n",
    "geCollection=ee.ImageCollection('USDA/NAIP/DOQQ')\n",
    "label = 1\n",
    "meters = 2000\n",
    "pixels = 25\n",
    "bands = ['R', 'G', 'B']\n",
    "coords = ((-110.042831, 43.716602), (-109.379713, 44.437358))\n",
    "\n",
    "for i in range(5):\n",
    "    print i\n",
    "    t = Thread(target=imagery_getter,\n",
    "               args=(label, geCollection, meters, pixels, bands, coords))\n",
    "    t.start()\n",
    "    threads.append(t)\n",
    "    time.sleep(2)\n",
    "\n",
    "# wait for all threads to finish\n",
    "for t in threads:\n",
    "    t.join()"
   ]
  },
  {
   "cell_type": "code",
   "execution_count": 8,
   "metadata": {},
   "outputs": [
    {
     "name": "stdout",
     "output_type": "stream",
     "text": [
      "(25, 25, 3)\n",
      "1\n"
     ]
    },
    {
     "data": {
      "image/png": "[encoded data removed]",
      "text/plain": [
       "<matplotlib.figure.Figure at 0x7fd21c93ed50>"
      ]
     },
     "metadata": {},
     "output_type": "display_data"
    },
    {
     "name": "stdout",
     "output_type": "stream",
     "text": [
      "(25, 25, 3)\n",
      "1\n"
     ]
    },
    {
     "data": {
      "image/png": "[encoded data removed]",
      "text/plain": [
       "<matplotlib.figure.Figure at 0x7fd24cadb810>"
      ]
     },
     "metadata": {},
     "output_type": "display_data"
    },
    {
     "name": "stdout",
     "output_type": "stream",
     "text": [
      "(25, 25, 3)\n",
      "1\n"
     ]
    },
    {
     "data": {
      "image/png": "[encoded data removed]",
      "text/plain": [
       "<matplotlib.figure.Figure at 0x7fd24c6d03d0>"
      ]
     },
     "metadata": {},
     "output_type": "display_data"
    }
   ],
   "source": [
    "#\n",
    "# Look inside protobuff to make sure records are correctly recorded.\n",
    "#\n",
    "\n",
    "i = 0\n",
    "for serialized_example in tf.python_io.tf_record_iterator(PROTO_FILENAME):\n",
    "    i = i + 1\n",
    "    if i > 3:\n",
    "        break\n",
    "    example = tf.train.Example()\n",
    "    example.ParseFromString(serialized_example)\n",
    "\n",
    "    # traverse the Example format to get data\n",
    "    R = example.features.feature['R'].int64_list.value\n",
    "    G = example.features.feature['G'].int64_list.value\n",
    "    B = example.features.feature['B'].int64_list.value\n",
    "    img = np.dstack([np.array(R).astype(\"float32\").reshape((25,25)),\n",
    "                     np.array(G).astype(\"float32\").reshape((25,25)),\n",
    "                     np.array(B).astype(\"float32\").reshape((25,25))])\n",
    "    print img.shape\n",
    "    label = example.features.feature['label'].int64_list.value[0]\n",
    "    # do something\n",
    "    print label\n",
    "\n",
    "    plt.imshow(img); plt.show()"
   ]
  }
 ],
 "metadata": {
  "kernelspec": {
   "display_name": "Python 2",
   "language": "python",
   "name": "python2"
  },
  "language_info": {
   "codemirror_mode": {
    "name": "ipython",
    "version": 2
   },
   "file_extension": ".py",
   "mimetype": "text/x-python",
   "name": "python",
   "nbconvert_exporter": "python",
   "pygments_lexer": "ipython2",
   "version": "2.7.13"
  }
 },
 "nbformat": 4,
 "nbformat_minor": 2
}
