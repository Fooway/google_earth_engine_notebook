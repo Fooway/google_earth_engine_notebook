{
 "cells": [
  {
   "cell_type": "code",
   "execution_count": 4,
   "metadata": {
    "scrolled": false
   },
   "outputs": [
    {
     "name": "stdout",
     "output_type": "stream",
     "text": [
      "The autoreload extension is already loaded. To reload it, use:\n",
      "  %reload_ext autoreload\n",
      "7 images available.\n",
      "{u'bands': [{u'crs': u'EPSG:26910', u'crs_transform': [1.0, 0.0, 594700.0, 0.0, -1.0, 4054180.0], u'id': u'R', u'data_type': {u'max': 255, u'type': u'PixelType', u'precision': u'int', u'min': 0}, u'dimensions': [6290, 7620]}, {u'crs': u'EPSG:26910', u'crs_transform': [1.0, 0.0, 594700.0, 0.0, -1.0, 4054180.0], u'id': u'G', u'data_type': {u'max': 255, u'type': u'PixelType', u'precision': u'int', u'min': 0}, u'dimensions': [6290, 7620]}, {u'crs': u'EPSG:26910', u'crs_transform': [1.0, 0.0, 594700.0, 0.0, -1.0, 4054180.0], u'id': u'B', u'data_type': {u'max': 255, u'type': u'PixelType', u'precision': u'int', u'min': 0}, u'dimensions': [6290, 7620]}, {u'crs': u'EPSG:26910', u'crs_transform': [1.0, 0.0, 594700.0, 0.0, -1.0, 4054180.0], u'id': u'N', u'data_type': {u'max': 255, u'type': u'PixelType', u'precision': u'int', u'min': 0}, u'dimensions': [6290, 7620]}], u'version': 1405651391937000, u'type': u'Image', u'id': u'USDA/NAIP/DOQQ/m_3612125_ne_10_1_20090622', u'properties': {u'system:footprint': {u'type': u'LinearRing', u'coordinates': [[-121.9417559822446, 36.62781572476344], [-121.9417559822446, 36.55977896379636], [-121.87047843046582, 36.55977896379636], [-121.87047843046582, 36.62781572476344], [-121.9417559822446, 36.62781572476344]]}, u'system:time_end': 1245715200000, u'system:asset_size': 197925475, u'system:time_start': 1245628800000, u'system:index': u'm_3612125_ne_10_1_20090622'}}\n",
      "https://earthengine.googleapis.com/api/download?docid=c7f084d79928dbb7eef7b6b3f1272d7c&token=0e5fcc4bb80a381759a26633add801d5\n"
     ]
    },
    {
     "data": {
      "image/png": "[encoded data removed]",
      "text/plain": [
       "<matplotlib.figure.Figure at 0x7fad4e541090>"
      ]
     },
     "metadata": {},
     "output_type": "display_data"
    }
   ],
   "source": [
    "%matplotlib inline\n",
    "%load_ext autoreload\n",
    "%autoreload 2\n",
    "\n",
    "import pprint\n",
    "pp = pprint.PrettyPrinter(indent=4)\n",
    "import matplotlib.pyplot as plt\n",
    "import matplotlib.image as mpimg\n",
    "import ee\n",
    "\n",
    "# import my custom library of helper functions\n",
    "from gee_library import *\n",
    "\n",
    "ee.Initialize()\n",
    "\n",
    "monterey = (-121.8905502, 36.5966087)\n",
    "\n",
    "california_bounds = bound_geometry(\n",
    "                        (-121.6088395, 36.6240228),\n",
    "                        (-121.6088395, 36.6240228)\n",
    "                    )\n",
    "\n",
    "\n",
    "maps_collection = ee.ImageCollection('USDA/NAIP/DOQQ')\n",
    "\n",
    "# print available_bands(maps_collection)\n",
    "\n",
    "\n",
    "monterey_images = all_images_at_location(maps_collection, monterey)\n",
    "\n",
    "\n",
    "# bound_filter = ee.Filter.geometry(california_bounds)\n",
    "# greater_monterey_area = maps_collection.filter(bound_filter)\n",
    "\n",
    "\n",
    "print collection_length(monterey_images), \"images available.\"\n",
    "\n",
    "# get_region(maps_collection, 600, 'N', california_bounds)\n",
    "\n",
    "\n",
    "\n",
    "# print \"Bands available:\", available_bands(greater_monterey_area)\n",
    "\n",
    "# print date_range(monterey_images)\n",
    "\n",
    "print monterey_images.first().getInfo()\n",
    "\n",
    "for z in [500]:\n",
    "    \n",
    "    tiles =  element_to_img(monterey_images.first(), z, ['N'], california_bounds)\n",
    "\n",
    "    for t in tiles:\n",
    "        img=mpimg.imread(t)\n",
    "        plt.imshow(img)\n",
    "        plt.show()\n",
    "\n",
    "\n",
    "\n"
   ]
  },
  {
   "cell_type": "code",
   "execution_count": 40,
   "metadata": {
    "scrolled": false
   },
   "outputs": [
    {
     "name": "stdout",
     "output_type": "stream",
     "text": [
      "https://earthengine.googleapis.com/api/download?docid=aef810413319ff70048faa1e8c8cce66&token=fe31fdb25fa312df2057385a27f02a9d\n"
     ]
    }
   ],
   "source": [
    "small_bounds_str = bound_string(\n",
    "                        (-121.800998,  36.4983511),\n",
    "                        (-121.7831844, 36.4789145)\n",
    "                    )\n",
    "\n",
    "\n",
    "path=ee.Image(maps_collection.mosaic()).getDownloadUrl({\n",
    "        'scale': 900,                              # resolution in meters\n",
    "        'crs': 'EPSG:4326', #4326                         #  projection\n",
    "        'bands': [{'id': 'R'}],\n",
    "        'region': small_bounds_str\n",
    "        });\n",
    "\n",
    "# debug output\n",
    "print path"
   ]
  }
 ],
 "metadata": {
  "kernelspec": {
   "display_name": "Python 2",
   "language": "python",
   "name": "python2"
  },
  "language_info": {
   "codemirror_mode": {
    "name": "ipython",
    "version": 2
   },
   "file_extension": ".py",
   "mimetype": "text/x-python",
   "name": "python",
   "nbconvert_exporter": "python",
   "pygments_lexer": "ipython2",
   "version": "2.7.13"
  }
 },
 "nbformat": 4,
 "nbformat_minor": 2
}
