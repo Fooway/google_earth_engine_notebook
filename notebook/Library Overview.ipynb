{
 "cells": [
  {
   "cell_type": "markdown",
   "metadata": {},
   "source": [
    "# GEE Library Overview\n",
    "\n",
    "Writing this guide resulted in a small collection of useful high-level helper functions that make using Google Earth Engine simpler. This notebook goes over some of them."
   ]
  },
  {
   "cell_type": "code",
   "execution_count": null,
   "metadata": {},
   "outputs": [],
   "source": [
    "%matplotlib inline\n",
    "%load_ext autoreload \n",
    "%autoreload 2\n",
    "import matplotlib.pyplot as plt\n",
    "import matplotlib.image as mpimg\n",
    "import scipy.misc\n",
    "import numpy as np\n",
    "\n",
    "import pprint as pp\n",
    "import ee\n",
    "ee.Initialize()\n",
    "\n",
    "from gee_library import *\n",
    "\n",
    "import pprint as pp"
   ]
  },
  {
   "cell_type": "markdown",
   "metadata": {},
   "source": [
    "## date_slices\n",
    "\n",
    "Dealing with imagery from different times can be difficult. Since different images were taken on different days and mosaics can be stiched together from images taken at different times, you usually need to select images taken on a *range* of dates to stich together an entire area. If you want to see an area change over time you have to select different date ranges that 1) provide 100% coverage of the area of interest and 2) do not overlap, since then you would be comparing two mosaics possibly made up of the same images.\n",
    "\n",
    "The `date_slices` method trys to help out by finding all the dates available for the images in a cetain area and then finds non-overlapping date ranges that result in 100% coverage of the area of interest. The result is a list of date ranges.\n",
    "\n",
    "The mechanism that this function uses is rather server-intensive and slow. This method should really only be used in the exploratory phase of a project."
   ]
  },
  {
   "cell_type": "code",
   "execution_count": null,
   "metadata": {},
   "outputs": [],
   "source": [
    "SAR_dataset = ee.ImageCollection('NOAA/DMSP-OLS/NIGHTTIME_LIGHTS')\n",
    "SAR_dataset = ee.ImageCollection('USDA/NAIP/DOQQ')\n",
    "\n",
    "meters = 3000\n",
    "pixels = 200\n",
    "resolution = meters/pixels\n",
    "\n",
    "\n",
    "nps_center = [ -121.873925, 36.596853]\n",
    "laplata = [-76.915988, 38.571057]\n",
    "tile_bounds = square_centered_at(\n",
    "    point = laplata,\n",
    "    half_distance = meters/2\n",
    ")\n",
    "\n",
    "\n",
    "monterey_SAR_Collection = SAR_dataset.filterBounds(tile_bounds)\n",
    "\n",
    "\n",
    "\n",
    "print \"Getting date slices...\"\n",
    "date_slice_list = date_slices(monterey_SAR_Collection.select(['R', 'G', 'B']), tile_bounds)\n",
    "\n",
    "\n",
    "print \"Done.\", len(date_slice_list), \"slices found. Getting imagery for each slice...\"\n",
    "for start_date, end_date in date_slice_list:\n",
    "    \n",
    "    print timestamp_to_datetime(start_date.getInfo()['value']), \"through\", timestamp_to_datetime(end_date.getInfo()['value']),\":\"\n",
    "    \n",
    "    filtered_collection = monterey_SAR_Collection.filter(ee.Filter.date(start_date, end_date))\n",
    "\n",
    "    # Request imagery\n",
    "    tiles = img_at_region(geCollection=filtered_collection,\n",
    "                          resolution=resolution,\n",
    "                          bands=['R', 'G', 'B'],\n",
    "                          geo_bounds=tile_bounds)\n",
    "    # resize img to requested size\n",
    "    np_band_array = [scipy.misc.imresize(tiles[b], (pixels, pixels)) for b in ['R', 'G', 'B']]\n",
    "    \n",
    "    # and stack the images in a matrix\n",
    "    img = np.dstack(np_band_array)\n",
    "    \n",
    "    # Display the image\n",
    "    plt.imshow(img); plt.show()\n"
   ]
  }
 ],
 "metadata": {
  "kernelspec": {
   "display_name": "Python 2",
   "language": "python",
   "name": "python2"
  },
  "language_info": {
   "codemirror_mode": {
    "name": "ipython",
    "version": 2
   },
   "file_extension": ".py",
   "mimetype": "text/x-python",
   "name": "python",
   "nbconvert_exporter": "python",
   "pygments_lexer": "ipython2",
   "version": "2.7.13"
  }
 },
 "nbformat": 4,
 "nbformat_minor": 2
}
