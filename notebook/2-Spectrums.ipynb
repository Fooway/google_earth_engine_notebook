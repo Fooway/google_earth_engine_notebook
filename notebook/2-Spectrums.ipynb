{
 "cells": [
  {
   "cell_type": "markdown",
   "metadata": {},
   "source": [
    "# Spectrums"
   ]
  },
  {
   "cell_type": "code",
   "execution_count": null,
   "metadata": {},
   "outputs": [],
   "source": [
    "%matplotlib inline\n",
    "%load_ext autoreload \n",
    "%autoreload 2\n",
    "\n",
    "import pprint\n",
    "pp = pprint.PrettyPrinter(indent=4)\n",
    "import matplotlib.pyplot as plt\n",
    "import matplotlib.image as mpimg\n",
    "import numpy as np\n",
    "\n",
    "# Import and intialize the Google Earth Engine Library\n",
    "import ee\n",
    "from gee_library import *\n",
    "ee.Initialize()"
   ]
  },
  {
   "cell_type": "code",
   "execution_count": null,
   "metadata": {},
   "outputs": [],
   "source": [
    "# First load an elevation dataset\n",
    "# The USGS/NED set is not actually a ee.Collection; it's an ee.Image. But right now all of my helper function expect\n",
    "# ee.Collection types. So we'll just package the Image into a Collection.\n",
    "elevation_image = ee.Image('USGS/NED')\n",
    "elevation_collection = ee.ImageCollection(elevation_image)\n",
    "\n",
    "# It looks like there is 1 band available: 'elevation'.\n",
    "available_bands_in_monterey = available_bands(elevation_collection)\n",
    "for k, v in available_bands_in_monterey.items():\n",
    "    print \"Band\", k, \"is available in\", v['number_available'], \"images. (\", v['percent_available'], \"%)\""
   ]
  },
  {
   "cell_type": "code",
   "execution_count": null,
   "metadata": {},
   "outputs": [],
   "source": [
    "# We'll select an area 400km x 400km centered at Mt. Whitney\n",
    "mt_whitney = (-118.292391, 36.578481)\n",
    "\n",
    "tile_bounds = square_centered_at(\n",
    "    point = mt_whitney,\n",
    "    half_distance = 400e3/2\n",
    ")\n",
    "\n",
    "# Choosing a resolution of 1000 should result in an image with dimentions around 400x400\n",
    "tiles = img_at_region(elevation_collection, 1000, ['elevation'], tile_bounds)\n",
    "elevation_img = np.array(tiles['elevation'])\n",
    "plt.imshow(elevation_img, cmap='gray'); plt.show()"
   ]
  },
  {
   "cell_type": "code",
   "execution_count": null,
   "metadata": {},
   "outputs": [],
   "source": [
    "# This elevation data has some special properties. While most of the images we were looking at earlier\n",
    "# contained pixels from 0-255 (8 bit color), the pixels in this image range from 0-4226.\n",
    "print \"Max value in elevation_img:\", np.amax(elevation_img)\n",
    "plt.hist(elevation_img.flatten())\n",
    "plt.show()\n",
    "\n",
    "# It's not a coincidence that Mt. Whitney measures just over 4km high. Each pixel value in the\n",
    "# elevation tif represents meters.\n"
   ]
  },
  {
   "cell_type": "code",
   "execution_count": null,
   "metadata": {},
   "outputs": [],
   "source": [
    "# Now let's pull the RGB imagery of the same region. Since USGS/NED only has elevation imagery, we have to\n",
    "# load a differt ImageCollection that has the RGB bands. Luckily, since all the images in the GEE are tagged\n",
    "# with accurate GPS and projection information, we can fuse different datasets together.\n",
    "\n",
    "rgb_collection = ee.ImageCollection('USDA/NAIP/DOQQ').filterBounds(tile_bounds).filter(ee.Filter.date('2015-01-01', '2017-01-10'))\n",
    "\n",
    "tiles = img_at_region(rgb_collection, 1000, ['R', 'G', 'B'], tile_bounds)\n",
    "rgb_img = np.dstack((tiles['R'], tiles['G'], tiles['B']))\n",
    "plt.imshow(rgb_img); plt.show()"
   ]
  },
  {
   "cell_type": "code",
   "execution_count": null,
   "metadata": {},
   "outputs": [],
   "source": [
    "# At this point we have two arrays with the same x,y dimentions. Each value in elevation_img is a measurement in\n",
    "# meters, while each element in rgb_img is an (R,B,G) tuple. From here we might stack them, creating an (R,B,G,elevation)\n",
    "# tuple and do some statistics on them (more on that later). To visualize it, however, we will transform the pixels\n",
    "# into a 3D point cloud.\n",
    "from mpl_toolkits.mplot3d import Axes3D\n",
    "\n",
    "xs = []\n",
    "ys = []\n",
    "zs = []\n",
    "cs = []\n",
    "\n",
    "# For every element in the images, save the x value, y value, elevation, and color.\n",
    "# There are more efficient ways to do this, but I thought this was the easiest to comprehend.\n",
    "for x in range(elevation_img.shape[0]):\n",
    "    for y in range(elevation_img.shape[1]):\n",
    "        xs.append(x)\n",
    "        ys.append(y)\n",
    "        zs.append(elevation_img[x,y])\n",
    "        cs.append([\n",
    "            rgb_img[x,y][0]/255.0, rgb_img[x,y][1]/255.0, rgb_img[x,y][2]/255.0, 1.0\n",
    "        ])\n",
    "    \n",
    "# Plot the point cloud\n",
    "fig = plt.figure()\n",
    "ax = fig.add_subplot(111, projection='3d')\n",
    "ax.scatter(xs=xs, ys=ys, zs=zs, facecolors=cs)\n",
    "plt.show()\n"
   ]
  }
 ],
 "metadata": {
  "kernelspec": {
   "display_name": "Python 2",
   "language": "python",
   "name": "python2"
  },
  "language_info": {
   "codemirror_mode": {
    "name": "ipython",
    "version": 2
   },
   "file_extension": ".py",
   "mimetype": "text/x-python",
   "name": "python",
   "nbconvert_exporter": "python",
   "pygments_lexer": "ipython2",
   "version": "2.7.13"
  }
 },
 "nbformat": 4,
 "nbformat_minor": 2
}
